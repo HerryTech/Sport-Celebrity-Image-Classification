{
 "cells": [
  {
   "cell_type": "code",
   "execution_count": 1,
   "id": "0b3d1a13-d05b-4165-8ba1-7e2c83277d67",
   "metadata": {
    "scrolled": true
   },
   "outputs": [],
   "source": [
    "import numpy as np\n",
    "import matplotlib.pyplot as plt\n",
    "import cv2"
   ]
  },
  {
   "cell_type": "markdown",
   "id": "ea3a8d56-4ab8-4865-bd3d-7dea0f308d56",
   "metadata": {},
   "source": [
    "#### Data Cleaning"
   ]
  },
  {
   "cell_type": "code",
   "execution_count": 2,
   "id": "34ce8267-c9ec-4fd4-86e7-3afedae7e77f",
   "metadata": {},
   "outputs": [],
   "source": [
    "#Detect and crop face and eyes"
   ]
  },
  {
   "cell_type": "code",
   "execution_count": 3,
   "id": "3b2da80c-996b-46fe-a820-58b7fb5bc62a",
   "metadata": {},
   "outputs": [],
   "source": [
    "face_cascade = cv2.CascadeClassifier('./opencv/haarcascades/haarcascade_frontalface_default.xml')\n",
    "eye_cascade = cv2.CascadeClassifier('./opencv/haarcascades/haarcascade_eye.xml')\n"
   ]
  },
  {
   "cell_type": "code",
   "execution_count": 4,
   "id": "23483bab-340a-45f3-ae00-61a69b54cb6f",
   "metadata": {},
   "outputs": [],
   "source": [
    "def get_cropped_image_with_2eyes(image_path):\n",
    "    img = cv2.imread(image_path)\n",
    "    gray = cv2.cvtColor(img, cv2.COLOR_BGR2GRAY)\n",
    "    faces = face_cascade.detectMultiScale(gray, 1.3, 5)\n",
    "    for (x,y,w,h) in faces:\n",
    "        roi_gray = gray[y:y+h, x:x+w]\n",
    "        roi_color = img[y:y+h, x:x+w]\n",
    "        eyes = eye_cascade.detectMultiScale(roi_gray)\n",
    "        if len(eyes)>=2:\n",
    "            return  roi_color"
   ]
  },
  {
   "cell_type": "code",
   "execution_count": 5,
   "id": "fc11f0ee-2e72-4ff2-82e1-674bff46718f",
   "metadata": {},
   "outputs": [],
   "source": [
    "path_to_data = \"./Dataset/\"\n",
    "path_to_cr_data = \"./Dataset/cropped/\""
   ]
  },
  {
   "cell_type": "code",
   "execution_count": 6,
   "id": "2100b6b3-6cf8-47ca-9dcb-789af44b63f3",
   "metadata": {},
   "outputs": [],
   "source": [
    "import os\n",
    "img_dirs = []\n",
    "for entry in os.scandir(path_to_data):\n",
    "    if entry.is_dir():\n",
    "        img_dirs.append(entry.path)\n"
   ]
  },
  {
   "cell_type": "code",
   "execution_count": 7,
   "id": "f9b3a364-edf2-4304-9504-a0fa1b1c786f",
   "metadata": {},
   "outputs": [
    {
     "data": {
      "text/plain": [
       "['./Dataset/lionel_messi',\n",
       " './Dataset/maria_sharapova',\n",
       " './Dataset/roger_federer',\n",
       " './Dataset/serena_williams',\n",
       " './Dataset/virat_kohli']"
      ]
     },
     "execution_count": 7,
     "metadata": {},
     "output_type": "execute_result"
    }
   ],
   "source": [
    "img_dirs"
   ]
  },
  {
   "cell_type": "code",
   "execution_count": 8,
   "id": "2a818160-6085-4b2e-9efe-769eeab5c684",
   "metadata": {},
   "outputs": [],
   "source": [
    "import shutil\n",
    "if os.path.exists(path_to_cr_data):\n",
    "    shutil.rmtree(path_to_cr_data)\n",
    "os.mkdir(path_to_cr_data)"
   ]
  },
  {
   "cell_type": "code",
   "execution_count": 9,
   "id": "197a9346-7a6d-44e0-b869-58e26e45ef92",
   "metadata": {},
   "outputs": [
    {
     "name": "stdout",
     "output_type": "stream",
     "text": [
      "Generating cropped images in folder:  ./Dataset/cropped/lionel_messi\n",
      "Generating cropped images in folder:  ./Dataset/cropped/maria_sharapova\n",
      "Generating cropped images in folder:  ./Dataset/cropped/roger_federer\n",
      "Generating cropped images in folder:  ./Dataset/cropped/serena_williams\n",
      "Generating cropped images in folder:  ./Dataset/cropped/virat_kohli\n"
     ]
    }
   ],
   "source": [
    "cropped_image_dirs = []\n",
    "for img_dir in img_dirs:\n",
    "    count = 1\n",
    "    celebrity_name = img_dir.split('/')[-1]\n",
    "    for entry in os.scandir(img_dir):\n",
    "        roi_color = get_cropped_image_with_2eyes(entry.path)\n",
    "        if roi_color is not None:\n",
    "            cropped_folder = path_to_cr_data + celebrity_name\n",
    "            if not os.path.exists(cropped_folder):\n",
    "                os.makedirs(cropped_folder)\n",
    "                cropped_image_dirs.append(cropped_folder)\n",
    "                print(\"Generating cropped images in folder: \",cropped_folder)\n",
    "            cropped_file_name = celebrity_name + str(count) + \".png\"\n",
    "            cropped_file_path = cropped_folder + \"/\" + cropped_file_name\n",
    "            cv2.imwrite(cropped_file_path, roi_color)\n",
    "            count += 1"
   ]
  },
  {
   "cell_type": "code",
   "execution_count": 10,
   "id": "08305d65-a51d-4c3d-a1a6-7ca56bfbc4e9",
   "metadata": {},
   "outputs": [
    {
     "data": {
      "text/plain": [
       "['./Dataset/cropped/lionel_messi',\n",
       " './Dataset/cropped/maria_sharapova',\n",
       " './Dataset/cropped/roger_federer',\n",
       " './Dataset/cropped/serena_williams',\n",
       " './Dataset/cropped/virat_kohli']"
      ]
     },
     "execution_count": 10,
     "metadata": {},
     "output_type": "execute_result"
    }
   ],
   "source": [
    "cropped_image_dirs"
   ]
  },
  {
   "cell_type": "code",
   "execution_count": 11,
   "id": "95f3bcc1-156b-4075-9b1a-eec7da6e625b",
   "metadata": {},
   "outputs": [
    {
     "data": {
      "text/plain": [
       "{'lionel_messi': ['./Dataset/cropped/lionel_messi\\\\lionel_messi1.png',\n",
       "  './Dataset/cropped/lionel_messi\\\\lionel_messi10.png',\n",
       "  './Dataset/cropped/lionel_messi\\\\lionel_messi11.png',\n",
       "  './Dataset/cropped/lionel_messi\\\\lionel_messi12.png',\n",
       "  './Dataset/cropped/lionel_messi\\\\lionel_messi13.png',\n",
       "  './Dataset/cropped/lionel_messi\\\\lionel_messi14.png',\n",
       "  './Dataset/cropped/lionel_messi\\\\lionel_messi15.png',\n",
       "  './Dataset/cropped/lionel_messi\\\\lionel_messi16.png',\n",
       "  './Dataset/cropped/lionel_messi\\\\lionel_messi17.png',\n",
       "  './Dataset/cropped/lionel_messi\\\\lionel_messi18.png',\n",
       "  './Dataset/cropped/lionel_messi\\\\lionel_messi19.png',\n",
       "  './Dataset/cropped/lionel_messi\\\\lionel_messi2.png',\n",
       "  './Dataset/cropped/lionel_messi\\\\lionel_messi20.png',\n",
       "  './Dataset/cropped/lionel_messi\\\\lionel_messi21.png',\n",
       "  './Dataset/cropped/lionel_messi\\\\lionel_messi22.png',\n",
       "  './Dataset/cropped/lionel_messi\\\\lionel_messi23.png',\n",
       "  './Dataset/cropped/lionel_messi\\\\lionel_messi24.png',\n",
       "  './Dataset/cropped/lionel_messi\\\\lionel_messi25.png',\n",
       "  './Dataset/cropped/lionel_messi\\\\lionel_messi26.png',\n",
       "  './Dataset/cropped/lionel_messi\\\\lionel_messi27.png',\n",
       "  './Dataset/cropped/lionel_messi\\\\lionel_messi28.png',\n",
       "  './Dataset/cropped/lionel_messi\\\\lionel_messi29.png',\n",
       "  './Dataset/cropped/lionel_messi\\\\lionel_messi3.png',\n",
       "  './Dataset/cropped/lionel_messi\\\\lionel_messi30.png',\n",
       "  './Dataset/cropped/lionel_messi\\\\lionel_messi31.png',\n",
       "  './Dataset/cropped/lionel_messi\\\\lionel_messi32.png',\n",
       "  './Dataset/cropped/lionel_messi\\\\lionel_messi33.png',\n",
       "  './Dataset/cropped/lionel_messi\\\\lionel_messi34.png',\n",
       "  './Dataset/cropped/lionel_messi\\\\lionel_messi35.png',\n",
       "  './Dataset/cropped/lionel_messi\\\\lionel_messi36.png',\n",
       "  './Dataset/cropped/lionel_messi\\\\lionel_messi37.png',\n",
       "  './Dataset/cropped/lionel_messi\\\\lionel_messi38.png',\n",
       "  './Dataset/cropped/lionel_messi\\\\lionel_messi39.png',\n",
       "  './Dataset/cropped/lionel_messi\\\\lionel_messi4.png',\n",
       "  './Dataset/cropped/lionel_messi\\\\lionel_messi5.png',\n",
       "  './Dataset/cropped/lionel_messi\\\\lionel_messi6.png',\n",
       "  './Dataset/cropped/lionel_messi\\\\lionel_messi7.png',\n",
       "  './Dataset/cropped/lionel_messi\\\\lionel_messi8.png',\n",
       "  './Dataset/cropped/lionel_messi\\\\lionel_messi9.png'],\n",
       " 'maria_sharapova': ['./Dataset/cropped/maria_sharapova\\\\maria_sharapova1.png',\n",
       "  './Dataset/cropped/maria_sharapova\\\\maria_sharapova10.png',\n",
       "  './Dataset/cropped/maria_sharapova\\\\maria_sharapova11.png',\n",
       "  './Dataset/cropped/maria_sharapova\\\\maria_sharapova12.png',\n",
       "  './Dataset/cropped/maria_sharapova\\\\maria_sharapova13.png',\n",
       "  './Dataset/cropped/maria_sharapova\\\\maria_sharapova14.png',\n",
       "  './Dataset/cropped/maria_sharapova\\\\maria_sharapova15.png',\n",
       "  './Dataset/cropped/maria_sharapova\\\\maria_sharapova16.png',\n",
       "  './Dataset/cropped/maria_sharapova\\\\maria_sharapova17.png',\n",
       "  './Dataset/cropped/maria_sharapova\\\\maria_sharapova18.png',\n",
       "  './Dataset/cropped/maria_sharapova\\\\maria_sharapova19.png',\n",
       "  './Dataset/cropped/maria_sharapova\\\\maria_sharapova2.png',\n",
       "  './Dataset/cropped/maria_sharapova\\\\maria_sharapova20.png',\n",
       "  './Dataset/cropped/maria_sharapova\\\\maria_sharapova21.png',\n",
       "  './Dataset/cropped/maria_sharapova\\\\maria_sharapova22.png',\n",
       "  './Dataset/cropped/maria_sharapova\\\\maria_sharapova23.png',\n",
       "  './Dataset/cropped/maria_sharapova\\\\maria_sharapova24.png',\n",
       "  './Dataset/cropped/maria_sharapova\\\\maria_sharapova25.png',\n",
       "  './Dataset/cropped/maria_sharapova\\\\maria_sharapova26.png',\n",
       "  './Dataset/cropped/maria_sharapova\\\\maria_sharapova27.png',\n",
       "  './Dataset/cropped/maria_sharapova\\\\maria_sharapova28.png',\n",
       "  './Dataset/cropped/maria_sharapova\\\\maria_sharapova29.png',\n",
       "  './Dataset/cropped/maria_sharapova\\\\maria_sharapova3.png',\n",
       "  './Dataset/cropped/maria_sharapova\\\\maria_sharapova30.png',\n",
       "  './Dataset/cropped/maria_sharapova\\\\maria_sharapova31.png',\n",
       "  './Dataset/cropped/maria_sharapova\\\\maria_sharapova32.png',\n",
       "  './Dataset/cropped/maria_sharapova\\\\maria_sharapova33.png',\n",
       "  './Dataset/cropped/maria_sharapova\\\\maria_sharapova34.png',\n",
       "  './Dataset/cropped/maria_sharapova\\\\maria_sharapova35.png',\n",
       "  './Dataset/cropped/maria_sharapova\\\\maria_sharapova4.png',\n",
       "  './Dataset/cropped/maria_sharapova\\\\maria_sharapova5.png',\n",
       "  './Dataset/cropped/maria_sharapova\\\\maria_sharapova6.png',\n",
       "  './Dataset/cropped/maria_sharapova\\\\maria_sharapova7.png',\n",
       "  './Dataset/cropped/maria_sharapova\\\\maria_sharapova8.png',\n",
       "  './Dataset/cropped/maria_sharapova\\\\maria_sharapova9.png'],\n",
       " 'roger_federer': ['./Dataset/cropped/roger_federer\\\\roger_federer1.png',\n",
       "  './Dataset/cropped/roger_federer\\\\roger_federer10.png',\n",
       "  './Dataset/cropped/roger_federer\\\\roger_federer11.png',\n",
       "  './Dataset/cropped/roger_federer\\\\roger_federer12.png',\n",
       "  './Dataset/cropped/roger_federer\\\\roger_federer13.png',\n",
       "  './Dataset/cropped/roger_federer\\\\roger_federer14.png',\n",
       "  './Dataset/cropped/roger_federer\\\\roger_federer15.png',\n",
       "  './Dataset/cropped/roger_federer\\\\roger_federer16.png',\n",
       "  './Dataset/cropped/roger_federer\\\\roger_federer17.png',\n",
       "  './Dataset/cropped/roger_federer\\\\roger_federer18.png',\n",
       "  './Dataset/cropped/roger_federer\\\\roger_federer19.png',\n",
       "  './Dataset/cropped/roger_federer\\\\roger_federer2.png',\n",
       "  './Dataset/cropped/roger_federer\\\\roger_federer20.png',\n",
       "  './Dataset/cropped/roger_federer\\\\roger_federer21.png',\n",
       "  './Dataset/cropped/roger_federer\\\\roger_federer22.png',\n",
       "  './Dataset/cropped/roger_federer\\\\roger_federer23.png',\n",
       "  './Dataset/cropped/roger_federer\\\\roger_federer24.png',\n",
       "  './Dataset/cropped/roger_federer\\\\roger_federer25.png',\n",
       "  './Dataset/cropped/roger_federer\\\\roger_federer26.png',\n",
       "  './Dataset/cropped/roger_federer\\\\roger_federer27.png',\n",
       "  './Dataset/cropped/roger_federer\\\\roger_federer28.png',\n",
       "  './Dataset/cropped/roger_federer\\\\roger_federer29.png',\n",
       "  './Dataset/cropped/roger_federer\\\\roger_federer3.png',\n",
       "  './Dataset/cropped/roger_federer\\\\roger_federer30.png',\n",
       "  './Dataset/cropped/roger_federer\\\\roger_federer4.png',\n",
       "  './Dataset/cropped/roger_federer\\\\roger_federer5.png',\n",
       "  './Dataset/cropped/roger_federer\\\\roger_federer6.png',\n",
       "  './Dataset/cropped/roger_federer\\\\roger_federer7.png',\n",
       "  './Dataset/cropped/roger_federer\\\\roger_federer8.png',\n",
       "  './Dataset/cropped/roger_federer\\\\roger_federer9.png'],\n",
       " 'serena_williams': ['./Dataset/cropped/serena_williams\\\\serena_williams1.png',\n",
       "  './Dataset/cropped/serena_williams\\\\serena_williams10.png',\n",
       "  './Dataset/cropped/serena_williams\\\\serena_williams11.png',\n",
       "  './Dataset/cropped/serena_williams\\\\serena_williams12.png',\n",
       "  './Dataset/cropped/serena_williams\\\\serena_williams13.png',\n",
       "  './Dataset/cropped/serena_williams\\\\serena_williams14.png',\n",
       "  './Dataset/cropped/serena_williams\\\\serena_williams15.png',\n",
       "  './Dataset/cropped/serena_williams\\\\serena_williams16.png',\n",
       "  './Dataset/cropped/serena_williams\\\\serena_williams17.png',\n",
       "  './Dataset/cropped/serena_williams\\\\serena_williams18.png',\n",
       "  './Dataset/cropped/serena_williams\\\\serena_williams19.png',\n",
       "  './Dataset/cropped/serena_williams\\\\serena_williams2.png',\n",
       "  './Dataset/cropped/serena_williams\\\\serena_williams20.png',\n",
       "  './Dataset/cropped/serena_williams\\\\serena_williams21.png',\n",
       "  './Dataset/cropped/serena_williams\\\\serena_williams22.png',\n",
       "  './Dataset/cropped/serena_williams\\\\serena_williams23.png',\n",
       "  './Dataset/cropped/serena_williams\\\\serena_williams24.png',\n",
       "  './Dataset/cropped/serena_williams\\\\serena_williams25.png',\n",
       "  './Dataset/cropped/serena_williams\\\\serena_williams26.png',\n",
       "  './Dataset/cropped/serena_williams\\\\serena_williams27.png',\n",
       "  './Dataset/cropped/serena_williams\\\\serena_williams28.png',\n",
       "  './Dataset/cropped/serena_williams\\\\serena_williams29.png',\n",
       "  './Dataset/cropped/serena_williams\\\\serena_williams3.png',\n",
       "  './Dataset/cropped/serena_williams\\\\serena_williams30.png',\n",
       "  './Dataset/cropped/serena_williams\\\\serena_williams31.png',\n",
       "  './Dataset/cropped/serena_williams\\\\serena_williams32.png',\n",
       "  './Dataset/cropped/serena_williams\\\\serena_williams33.png',\n",
       "  './Dataset/cropped/serena_williams\\\\serena_williams34.png',\n",
       "  './Dataset/cropped/serena_williams\\\\serena_williams35.png',\n",
       "  './Dataset/cropped/serena_williams\\\\serena_williams4.png',\n",
       "  './Dataset/cropped/serena_williams\\\\serena_williams5.png',\n",
       "  './Dataset/cropped/serena_williams\\\\serena_williams6.png',\n",
       "  './Dataset/cropped/serena_williams\\\\serena_williams7.png',\n",
       "  './Dataset/cropped/serena_williams\\\\serena_williams8.png',\n",
       "  './Dataset/cropped/serena_williams\\\\serena_williams9.png'],\n",
       " 'virat_kohli': ['./Dataset/cropped/virat_kohli\\\\virat_kohli1.png',\n",
       "  './Dataset/cropped/virat_kohli\\\\virat_kohli10.png',\n",
       "  './Dataset/cropped/virat_kohli\\\\virat_kohli11.png',\n",
       "  './Dataset/cropped/virat_kohli\\\\virat_kohli12.png',\n",
       "  './Dataset/cropped/virat_kohli\\\\virat_kohli13.png',\n",
       "  './Dataset/cropped/virat_kohli\\\\virat_kohli14.png',\n",
       "  './Dataset/cropped/virat_kohli\\\\virat_kohli15.png',\n",
       "  './Dataset/cropped/virat_kohli\\\\virat_kohli16.png',\n",
       "  './Dataset/cropped/virat_kohli\\\\virat_kohli17.png',\n",
       "  './Dataset/cropped/virat_kohli\\\\virat_kohli18.png',\n",
       "  './Dataset/cropped/virat_kohli\\\\virat_kohli19.png',\n",
       "  './Dataset/cropped/virat_kohli\\\\virat_kohli2.png',\n",
       "  './Dataset/cropped/virat_kohli\\\\virat_kohli20.png',\n",
       "  './Dataset/cropped/virat_kohli\\\\virat_kohli21.png',\n",
       "  './Dataset/cropped/virat_kohli\\\\virat_kohli22.png',\n",
       "  './Dataset/cropped/virat_kohli\\\\virat_kohli23.png',\n",
       "  './Dataset/cropped/virat_kohli\\\\virat_kohli24.png',\n",
       "  './Dataset/cropped/virat_kohli\\\\virat_kohli25.png',\n",
       "  './Dataset/cropped/virat_kohli\\\\virat_kohli26.png',\n",
       "  './Dataset/cropped/virat_kohli\\\\virat_kohli27.png',\n",
       "  './Dataset/cropped/virat_kohli\\\\virat_kohli28.png',\n",
       "  './Dataset/cropped/virat_kohli\\\\virat_kohli29.png',\n",
       "  './Dataset/cropped/virat_kohli\\\\virat_kohli3.png',\n",
       "  './Dataset/cropped/virat_kohli\\\\virat_kohli30.png',\n",
       "  './Dataset/cropped/virat_kohli\\\\virat_kohli31.png',\n",
       "  './Dataset/cropped/virat_kohli\\\\virat_kohli32.png',\n",
       "  './Dataset/cropped/virat_kohli\\\\virat_kohli33.png',\n",
       "  './Dataset/cropped/virat_kohli\\\\virat_kohli34.png',\n",
       "  './Dataset/cropped/virat_kohli\\\\virat_kohli35.png',\n",
       "  './Dataset/cropped/virat_kohli\\\\virat_kohli36.png',\n",
       "  './Dataset/cropped/virat_kohli\\\\virat_kohli37.png',\n",
       "  './Dataset/cropped/virat_kohli\\\\virat_kohli38.png',\n",
       "  './Dataset/cropped/virat_kohli\\\\virat_kohli39.png',\n",
       "  './Dataset/cropped/virat_kohli\\\\virat_kohli4.png',\n",
       "  './Dataset/cropped/virat_kohli\\\\virat_kohli40.png',\n",
       "  './Dataset/cropped/virat_kohli\\\\virat_kohli41.png',\n",
       "  './Dataset/cropped/virat_kohli\\\\virat_kohli42.png',\n",
       "  './Dataset/cropped/virat_kohli\\\\virat_kohli43.png',\n",
       "  './Dataset/cropped/virat_kohli\\\\virat_kohli44.png',\n",
       "  './Dataset/cropped/virat_kohli\\\\virat_kohli45.png',\n",
       "  './Dataset/cropped/virat_kohli\\\\virat_kohli46.png',\n",
       "  './Dataset/cropped/virat_kohli\\\\virat_kohli47.png',\n",
       "  './Dataset/cropped/virat_kohli\\\\virat_kohli48.png',\n",
       "  './Dataset/cropped/virat_kohli\\\\virat_kohli5.png',\n",
       "  './Dataset/cropped/virat_kohli\\\\virat_kohli6.png',\n",
       "  './Dataset/cropped/virat_kohli\\\\virat_kohli7.png',\n",
       "  './Dataset/cropped/virat_kohli\\\\virat_kohli8.png',\n",
       "  './Dataset/cropped/virat_kohli\\\\virat_kohli9.png']}"
      ]
     },
     "execution_count": 11,
     "metadata": {},
     "output_type": "execute_result"
    }
   ],
   "source": [
    "celebrity_file_names_dict = {}\n",
    "for img_dir in cropped_image_dirs:\n",
    "    celebrity_name = img_dir.split('/')[-1]\n",
    "    file_list = []\n",
    "    for entry in os.scandir(img_dir):\n",
    "        file_list.append(entry.path)\n",
    "    celebrity_file_names_dict[celebrity_name] = file_list\n",
    "celebrity_file_names_dict"
   ]
  },
  {
   "cell_type": "markdown",
   "id": "cd91f159-d3ad-485b-ac6d-1b46be47535d",
   "metadata": {},
   "source": [
    "#### Feature Engineering"
   ]
  },
  {
   "cell_type": "code",
   "execution_count": 12,
   "id": "d324b073-c390-4bae-ba0b-bee391be27dd",
   "metadata": {},
   "outputs": [],
   "source": [
    "import pywt   \n",
    "\n",
    "def w2d(img, mode='haar', level=1):\n",
    "    imArray = img\n",
    "    #Datatype conversions\n",
    "    #convert to grayscale\n",
    "    imArray = cv2.cvtColor( imArray,cv2.COLOR_RGB2GRAY )\n",
    "    #convert to float\n",
    "    imArray =  np.float32(imArray)   \n",
    "    imArray /= 255;\n",
    "    # compute coefficients \n",
    "    coeffs=pywt.wavedec2(imArray, mode, level=level)\n",
    "\n",
    "    #Process Coefficients\n",
    "    coeffs_H=list(coeffs)  \n",
    "    coeffs_H[0] *= 0;  \n",
    "\n",
    "    # reconstruction\n",
    "    imArray_H=pywt.waverec2(coeffs_H, mode);\n",
    "    imArray_H *= 255;\n",
    "    imArray_H =  np.uint8(imArray_H)\n",
    "\n",
    "    return imArray_H"
   ]
  },
  {
   "cell_type": "code",
   "execution_count": 13,
   "id": "e1201d7b-16db-4d0c-9130-e64829abc8ce",
   "metadata": {},
   "outputs": [
    {
     "data": {
      "text/plain": [
       "{'lionel_messi': 0,\n",
       " 'maria_sharapova': 1,\n",
       " 'roger_federer': 2,\n",
       " 'serena_williams': 3,\n",
       " 'virat_kohli': 4}"
      ]
     },
     "execution_count": 13,
     "metadata": {},
     "output_type": "execute_result"
    }
   ],
   "source": [
    "class_celeb = {}\n",
    "count = 0\n",
    "for celebrity_name in celebrity_file_names_dict.keys():\n",
    "    class_celeb[celebrity_name] = count\n",
    "    count += 1\n",
    "class_celeb"
   ]
  },
  {
   "cell_type": "code",
   "execution_count": 14,
   "id": "3ec24b71-d303-4969-b763-198f93cd3ef6",
   "metadata": {},
   "outputs": [],
   "source": [
    "X = []\n",
    "y = []\n",
    "for celebrity_name, training_files in celebrity_file_names_dict.items():\n",
    "    for training_img in training_files:\n",
    "        img = cv2.imread(training_img)\n",
    "        scaled_img = cv2.resize(img, (32,32))\n",
    "        img_har = w2d(img, \"db1\", 5)\n",
    "        scaled_img_har = cv2.resize(img_har, (32,32))\n",
    "        combined_img = np.vstack((scaled_img.reshape(32*32*3, 1), scaled_img_har.reshape(32*32, 1)))\n",
    "        X.append(combined_img)\n",
    "        y.append(class_celeb[celebrity_name])"
   ]
  },
  {
   "cell_type": "code",
   "execution_count": 15,
   "id": "275840b3-6bc0-45b2-8dc8-99412335dba2",
   "metadata": {},
   "outputs": [
    {
     "data": {
      "text/plain": [
       "187"
      ]
     },
     "execution_count": 15,
     "metadata": {},
     "output_type": "execute_result"
    }
   ],
   "source": [
    "len(X)"
   ]
  },
  {
   "cell_type": "code",
   "execution_count": 14,
   "id": "d95e5b31-1621-415d-b3b1-713fe92da939",
   "metadata": {},
   "outputs": [
    {
     "data": {
      "text/plain": [
       "(167, 4096)"
      ]
     },
     "execution_count": 14,
     "metadata": {},
     "output_type": "execute_result"
    }
   ],
   "source": [
    "X = np.array(X).reshape(len(X),4096).astype(float)\n",
    "X.shape"
   ]
  },
  {
   "cell_type": "code",
   "execution_count": null,
   "id": "8767df84-5c09-4c81-8ca6-629c7857515d",
   "metadata": {},
   "outputs": [],
   "source": []
  }
 ],
 "metadata": {
  "kernelspec": {
   "display_name": "Python 3 (ipykernel)",
   "language": "python",
   "name": "python3"
  },
  "language_info": {
   "codemirror_mode": {
    "name": "ipython",
    "version": 3
   },
   "file_extension": ".py",
   "mimetype": "text/x-python",
   "name": "python",
   "nbconvert_exporter": "python",
   "pygments_lexer": "ipython3",
   "version": "3.12.4"
  }
 },
 "nbformat": 4,
 "nbformat_minor": 5
}
