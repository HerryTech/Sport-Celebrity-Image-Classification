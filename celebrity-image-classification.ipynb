{
 "cells": [
  {
   "cell_type": "code",
   "execution_count": 1,
   "id": "0b3d1a13-d05b-4165-8ba1-7e2c83277d67",
   "metadata": {
    "scrolled": true
   },
   "outputs": [],
   "source": [
    "import numpy as np\n",
    "import matplotlib.pyplot as plt\n",
    "import cv2"
   ]
  },
  {
   "cell_type": "markdown",
   "id": "ea3a8d56-4ab8-4865-bd3d-7dea0f308d56",
   "metadata": {},
   "source": [
    "#### Data Cleaning"
   ]
  },
  {
   "cell_type": "code",
   "execution_count": 2,
   "id": "34ce8267-c9ec-4fd4-86e7-3afedae7e77f",
   "metadata": {},
   "outputs": [],
   "source": [
    "#Detect and crop face and eyes"
   ]
  },
  {
   "cell_type": "code",
   "execution_count": 3,
   "id": "3b2da80c-996b-46fe-a820-58b7fb5bc62a",
   "metadata": {},
   "outputs": [],
   "source": [
    "face_cascade = cv2.CascadeClassifier('./opencv/haarcascades/haarcascade_frontalface_default.xml')\n",
    "eye_cascade = cv2.CascadeClassifier('./opencv/haarcascades/haarcascade_eye.xml')\n"
   ]
  },
  {
   "cell_type": "code",
   "execution_count": 4,
   "id": "23483bab-340a-45f3-ae00-61a69b54cb6f",
   "metadata": {},
   "outputs": [],
   "source": [
    "def get_cropped_image_with_2eyes(image_path):\n",
    "    img = cv2.imread(image_path)\n",
    "    gray = cv2.cvtColor(img, cv2.COLOR_BGR2GRAY)\n",
    "    faces = face_cascade.detectMultiScale(gray, 1.3, 5)\n",
    "    for (x,y,w,h) in faces:\n",
    "        roi_gray = gray[y:y+h, x:x+w]\n",
    "        roi_color = img[y:y+h, x:x+w]\n",
    "        eyes = eye_cascade.detectMultiScale(roi_gray)\n",
    "        if len(eyes)>=2:\n",
    "            return  roi_color"
   ]
  },
  {
   "cell_type": "code",
   "execution_count": 5,
   "id": "fc11f0ee-2e72-4ff2-82e1-674bff46718f",
   "metadata": {},
   "outputs": [],
   "source": [
    "path_to_data = \"./Dataset/\"\n",
    "path_to_cr_data = \"./Dataset/cropped/\""
   ]
  },
  {
   "cell_type": "code",
   "execution_count": 6,
   "id": "2100b6b3-6cf8-47ca-9dcb-789af44b63f3",
   "metadata": {},
   "outputs": [],
   "source": [
    "import os\n",
    "img_dirs = []\n",
    "for entry in os.scandir(path_to_data):\n",
    "    if entry.is_dir():\n",
    "        img_dirs.append(entry.path)\n"
   ]
  },
  {
   "cell_type": "code",
   "execution_count": 7,
   "id": "f9b3a364-edf2-4304-9504-a0fa1b1c786f",
   "metadata": {},
   "outputs": [
    {
     "data": {
      "text/plain": [
       "['./Dataset/lionel_messi',\n",
       " './Dataset/maria_sharapova',\n",
       " './Dataset/roger_federer',\n",
       " './Dataset/serena_williams',\n",
       " './Dataset/virat_kohli']"
      ]
     },
     "execution_count": 7,
     "metadata": {},
     "output_type": "execute_result"
    }
   ],
   "source": [
    "img_dirs"
   ]
  },
  {
   "cell_type": "code",
   "execution_count": 8,
   "id": "2a818160-6085-4b2e-9efe-769eeab5c684",
   "metadata": {},
   "outputs": [],
   "source": [
    "import shutil\n",
    "if os.path.exists(path_to_cr_data):\n",
    "    shutil.rmtree(path_to_cr_data)\n",
    "os.mkdir(path_to_cr_data)"
   ]
  },
  {
   "cell_type": "code",
   "execution_count": 9,
   "id": "197a9346-7a6d-44e0-b869-58e26e45ef92",
   "metadata": {},
   "outputs": [
    {
     "name": "stdout",
     "output_type": "stream",
     "text": [
      "Generating cropped images in folder:  ./Dataset/cropped/lionel_messi\n",
      "Generating cropped images in folder:  ./Dataset/cropped/maria_sharapova\n",
      "Generating cropped images in folder:  ./Dataset/cropped/roger_federer\n",
      "Generating cropped images in folder:  ./Dataset/cropped/serena_williams\n",
      "Generating cropped images in folder:  ./Dataset/cropped/virat_kohli\n"
     ]
    }
   ],
   "source": [
    "cropped_image_dirs = []\n",
    "for img_dir in img_dirs:\n",
    "    count = 1\n",
    "    celebrity_name = img_dir.split('/')[-1]\n",
    "    for entry in os.scandir(img_dir):\n",
    "        roi_color = get_cropped_image_with_2eyes(entry.path)\n",
    "        if roi_color is not None:\n",
    "            cropped_folder = path_to_cr_data + celebrity_name\n",
    "            if not os.path.exists(cropped_folder):\n",
    "                os.makedirs(cropped_folder)\n",
    "                cropped_image_dirs.append(cropped_folder)\n",
    "                print(\"Generating cropped images in folder: \",cropped_folder)\n",
    "            cropped_file_name = celebrity_name + str(count) + \".png\"\n",
    "            cropped_file_path = cropped_folder + \"/\" + cropped_file_name\n",
    "            cv2.imwrite(cropped_file_path, roi_color)\n",
    "            count += 1"
   ]
  },
  {
   "cell_type": "code",
   "execution_count": 10,
   "id": "08305d65-a51d-4c3d-a1a6-7ca56bfbc4e9",
   "metadata": {},
   "outputs": [
    {
     "data": {
      "text/plain": [
       "['./Dataset/cropped/lionel_messi',\n",
       " './Dataset/cropped/maria_sharapova',\n",
       " './Dataset/cropped/roger_federer',\n",
       " './Dataset/cropped/serena_williams',\n",
       " './Dataset/cropped/virat_kohli']"
      ]
     },
     "execution_count": 10,
     "metadata": {},
     "output_type": "execute_result"
    }
   ],
   "source": [
    "cropped_image_dirs"
   ]
  },
  {
   "cell_type": "code",
   "execution_count": 11,
   "id": "95f3bcc1-156b-4075-9b1a-eec7da6e625b",
   "metadata": {},
   "outputs": [
    {
     "data": {
      "text/plain": [
       "{'lionel_messi': ['./Dataset/cropped/lionel_messi\\\\lionel_messi1.png',\n",
       "  './Dataset/cropped/lionel_messi\\\\lionel_messi10.png',\n",
       "  './Dataset/cropped/lionel_messi\\\\lionel_messi11.png',\n",
       "  './Dataset/cropped/lionel_messi\\\\lionel_messi13.png',\n",
       "  './Dataset/cropped/lionel_messi\\\\lionel_messi14.png',\n",
       "  './Dataset/cropped/lionel_messi\\\\lionel_messi15.png',\n",
       "  './Dataset/cropped/lionel_messi\\\\lionel_messi16.png',\n",
       "  './Dataset/cropped/lionel_messi\\\\lionel_messi17.png',\n",
       "  './Dataset/cropped/lionel_messi\\\\lionel_messi18.png',\n",
       "  './Dataset/cropped/lionel_messi\\\\lionel_messi19.png',\n",
       "  './Dataset/cropped/lionel_messi\\\\lionel_messi2.png',\n",
       "  './Dataset/cropped/lionel_messi\\\\lionel_messi20.png',\n",
       "  './Dataset/cropped/lionel_messi\\\\lionel_messi22.png',\n",
       "  './Dataset/cropped/lionel_messi\\\\lionel_messi23.png',\n",
       "  './Dataset/cropped/lionel_messi\\\\lionel_messi24.png',\n",
       "  './Dataset/cropped/lionel_messi\\\\lionel_messi25.png',\n",
       "  './Dataset/cropped/lionel_messi\\\\lionel_messi26.png',\n",
       "  './Dataset/cropped/lionel_messi\\\\lionel_messi27.png',\n",
       "  './Dataset/cropped/lionel_messi\\\\lionel_messi29.png',\n",
       "  './Dataset/cropped/lionel_messi\\\\lionel_messi3.png',\n",
       "  './Dataset/cropped/lionel_messi\\\\lionel_messi30.png',\n",
       "  './Dataset/cropped/lionel_messi\\\\lionel_messi32.png',\n",
       "  './Dataset/cropped/lionel_messi\\\\lionel_messi33.png',\n",
       "  './Dataset/cropped/lionel_messi\\\\lionel_messi34.png',\n",
       "  './Dataset/cropped/lionel_messi\\\\lionel_messi35.png',\n",
       "  './Dataset/cropped/lionel_messi\\\\lionel_messi36.png',\n",
       "  './Dataset/cropped/lionel_messi\\\\lionel_messi37.png',\n",
       "  './Dataset/cropped/lionel_messi\\\\lionel_messi38.png',\n",
       "  './Dataset/cropped/lionel_messi\\\\lionel_messi39.png',\n",
       "  './Dataset/cropped/lionel_messi\\\\lionel_messi4.png',\n",
       "  './Dataset/cropped/lionel_messi\\\\lionel_messi5.png',\n",
       "  './Dataset/cropped/lionel_messi\\\\lionel_messi6.png',\n",
       "  './Dataset/cropped/lionel_messi\\\\lionel_messi7.png',\n",
       "  './Dataset/cropped/lionel_messi\\\\lionel_messi8.png',\n",
       "  './Dataset/cropped/lionel_messi\\\\lionel_messi9.png'],\n",
       " 'maria_sharapova': ['./Dataset/cropped/maria_sharapova\\\\maria_sharapova1.png',\n",
       "  './Dataset/cropped/maria_sharapova\\\\maria_sharapova10.png',\n",
       "  './Dataset/cropped/maria_sharapova\\\\maria_sharapova11.png',\n",
       "  './Dataset/cropped/maria_sharapova\\\\maria_sharapova13.png',\n",
       "  './Dataset/cropped/maria_sharapova\\\\maria_sharapova14.png',\n",
       "  './Dataset/cropped/maria_sharapova\\\\maria_sharapova15.png',\n",
       "  './Dataset/cropped/maria_sharapova\\\\maria_sharapova16.png',\n",
       "  './Dataset/cropped/maria_sharapova\\\\maria_sharapova17.png',\n",
       "  './Dataset/cropped/maria_sharapova\\\\maria_sharapova18.png',\n",
       "  './Dataset/cropped/maria_sharapova\\\\maria_sharapova19.png',\n",
       "  './Dataset/cropped/maria_sharapova\\\\maria_sharapova2.png',\n",
       "  './Dataset/cropped/maria_sharapova\\\\maria_sharapova20.png',\n",
       "  './Dataset/cropped/maria_sharapova\\\\maria_sharapova21.png',\n",
       "  './Dataset/cropped/maria_sharapova\\\\maria_sharapova22.png',\n",
       "  './Dataset/cropped/maria_sharapova\\\\maria_sharapova23.png',\n",
       "  './Dataset/cropped/maria_sharapova\\\\maria_sharapova24.png',\n",
       "  './Dataset/cropped/maria_sharapova\\\\maria_sharapova25.png',\n",
       "  './Dataset/cropped/maria_sharapova\\\\maria_sharapova26.png',\n",
       "  './Dataset/cropped/maria_sharapova\\\\maria_sharapova27.png',\n",
       "  './Dataset/cropped/maria_sharapova\\\\maria_sharapova28.png',\n",
       "  './Dataset/cropped/maria_sharapova\\\\maria_sharapova29.png',\n",
       "  './Dataset/cropped/maria_sharapova\\\\maria_sharapova30.png',\n",
       "  './Dataset/cropped/maria_sharapova\\\\maria_sharapova31.png',\n",
       "  './Dataset/cropped/maria_sharapova\\\\maria_sharapova32.png',\n",
       "  './Dataset/cropped/maria_sharapova\\\\maria_sharapova33.png',\n",
       "  './Dataset/cropped/maria_sharapova\\\\maria_sharapova34.png',\n",
       "  './Dataset/cropped/maria_sharapova\\\\maria_sharapova35.png',\n",
       "  './Dataset/cropped/maria_sharapova\\\\maria_sharapova4.png',\n",
       "  './Dataset/cropped/maria_sharapova\\\\maria_sharapova5.png',\n",
       "  './Dataset/cropped/maria_sharapova\\\\maria_sharapova6.png',\n",
       "  './Dataset/cropped/maria_sharapova\\\\maria_sharapova7.png',\n",
       "  './Dataset/cropped/maria_sharapova\\\\maria_sharapova8.png'],\n",
       " 'roger_federer': ['./Dataset/cropped/roger_federer\\\\roger_federer1.png',\n",
       "  './Dataset/cropped/roger_federer\\\\roger_federer10.png',\n",
       "  './Dataset/cropped/roger_federer\\\\roger_federer11.png',\n",
       "  './Dataset/cropped/roger_federer\\\\roger_federer12.png',\n",
       "  './Dataset/cropped/roger_federer\\\\roger_federer13.png',\n",
       "  './Dataset/cropped/roger_federer\\\\roger_federer14.png',\n",
       "  './Dataset/cropped/roger_federer\\\\roger_federer15.png',\n",
       "  './Dataset/cropped/roger_federer\\\\roger_federer16.png',\n",
       "  './Dataset/cropped/roger_federer\\\\roger_federer17.png',\n",
       "  './Dataset/cropped/roger_federer\\\\roger_federer18.png',\n",
       "  './Dataset/cropped/roger_federer\\\\roger_federer19.png',\n",
       "  './Dataset/cropped/roger_federer\\\\roger_federer2.png',\n",
       "  './Dataset/cropped/roger_federer\\\\roger_federer20.png',\n",
       "  './Dataset/cropped/roger_federer\\\\roger_federer21.png',\n",
       "  './Dataset/cropped/roger_federer\\\\roger_federer22.png',\n",
       "  './Dataset/cropped/roger_federer\\\\roger_federer23.png',\n",
       "  './Dataset/cropped/roger_federer\\\\roger_federer24.png',\n",
       "  './Dataset/cropped/roger_federer\\\\roger_federer25.png',\n",
       "  './Dataset/cropped/roger_federer\\\\roger_federer28.png',\n",
       "  './Dataset/cropped/roger_federer\\\\roger_federer29.png',\n",
       "  './Dataset/cropped/roger_federer\\\\roger_federer3.png',\n",
       "  './Dataset/cropped/roger_federer\\\\roger_federer30.png',\n",
       "  './Dataset/cropped/roger_federer\\\\roger_federer4.png',\n",
       "  './Dataset/cropped/roger_federer\\\\roger_federer5.png',\n",
       "  './Dataset/cropped/roger_federer\\\\roger_federer6.png',\n",
       "  './Dataset/cropped/roger_federer\\\\roger_federer7.png',\n",
       "  './Dataset/cropped/roger_federer\\\\roger_federer8.png',\n",
       "  './Dataset/cropped/roger_federer\\\\roger_federer9.png'],\n",
       " 'serena_williams': ['./Dataset/cropped/serena_williams\\\\serena_williams10.png',\n",
       "  './Dataset/cropped/serena_williams\\\\serena_williams12.png',\n",
       "  './Dataset/cropped/serena_williams\\\\serena_williams13.png',\n",
       "  './Dataset/cropped/serena_williams\\\\serena_williams14.png',\n",
       "  './Dataset/cropped/serena_williams\\\\serena_williams15.png',\n",
       "  './Dataset/cropped/serena_williams\\\\serena_williams17.png',\n",
       "  './Dataset/cropped/serena_williams\\\\serena_williams2.png',\n",
       "  './Dataset/cropped/serena_williams\\\\serena_williams20.png',\n",
       "  './Dataset/cropped/serena_williams\\\\serena_williams22.png',\n",
       "  './Dataset/cropped/serena_williams\\\\serena_williams23.png',\n",
       "  './Dataset/cropped/serena_williams\\\\serena_williams24.png',\n",
       "  './Dataset/cropped/serena_williams\\\\serena_williams26.png',\n",
       "  './Dataset/cropped/serena_williams\\\\serena_williams27.png',\n",
       "  './Dataset/cropped/serena_williams\\\\serena_williams28.png',\n",
       "  './Dataset/cropped/serena_williams\\\\serena_williams29.png',\n",
       "  './Dataset/cropped/serena_williams\\\\serena_williams3.png',\n",
       "  './Dataset/cropped/serena_williams\\\\serena_williams30.png',\n",
       "  './Dataset/cropped/serena_williams\\\\serena_williams31.png',\n",
       "  './Dataset/cropped/serena_williams\\\\serena_williams32.png',\n",
       "  './Dataset/cropped/serena_williams\\\\serena_williams34.png',\n",
       "  './Dataset/cropped/serena_williams\\\\serena_williams35.png',\n",
       "  './Dataset/cropped/serena_williams\\\\serena_williams4.png',\n",
       "  './Dataset/cropped/serena_williams\\\\serena_williams6.png',\n",
       "  './Dataset/cropped/serena_williams\\\\serena_williams7.png',\n",
       "  './Dataset/cropped/serena_williams\\\\serena_williams8.png',\n",
       "  './Dataset/cropped/serena_williams\\\\serena_williams9.png'],\n",
       " 'virat_kohli': ['./Dataset/cropped/virat_kohli\\\\virat_kohli1.png',\n",
       "  './Dataset/cropped/virat_kohli\\\\virat_kohli10.png',\n",
       "  './Dataset/cropped/virat_kohli\\\\virat_kohli11.png',\n",
       "  './Dataset/cropped/virat_kohli\\\\virat_kohli12.png',\n",
       "  './Dataset/cropped/virat_kohli\\\\virat_kohli13.png',\n",
       "  './Dataset/cropped/virat_kohli\\\\virat_kohli14.png',\n",
       "  './Dataset/cropped/virat_kohli\\\\virat_kohli15.png',\n",
       "  './Dataset/cropped/virat_kohli\\\\virat_kohli16.png',\n",
       "  './Dataset/cropped/virat_kohli\\\\virat_kohli17.png',\n",
       "  './Dataset/cropped/virat_kohli\\\\virat_kohli18.png',\n",
       "  './Dataset/cropped/virat_kohli\\\\virat_kohli19.png',\n",
       "  './Dataset/cropped/virat_kohli\\\\virat_kohli2.png',\n",
       "  './Dataset/cropped/virat_kohli\\\\virat_kohli20.png',\n",
       "  './Dataset/cropped/virat_kohli\\\\virat_kohli21.png',\n",
       "  './Dataset/cropped/virat_kohli\\\\virat_kohli25.png',\n",
       "  './Dataset/cropped/virat_kohli\\\\virat_kohli26.png',\n",
       "  './Dataset/cropped/virat_kohli\\\\virat_kohli27.png',\n",
       "  './Dataset/cropped/virat_kohli\\\\virat_kohli28.png',\n",
       "  './Dataset/cropped/virat_kohli\\\\virat_kohli30.png',\n",
       "  './Dataset/cropped/virat_kohli\\\\virat_kohli31.png',\n",
       "  './Dataset/cropped/virat_kohli\\\\virat_kohli32.png',\n",
       "  './Dataset/cropped/virat_kohli\\\\virat_kohli33.png',\n",
       "  './Dataset/cropped/virat_kohli\\\\virat_kohli35.png',\n",
       "  './Dataset/cropped/virat_kohli\\\\virat_kohli36.png',\n",
       "  './Dataset/cropped/virat_kohli\\\\virat_kohli37.png',\n",
       "  './Dataset/cropped/virat_kohli\\\\virat_kohli38.png',\n",
       "  './Dataset/cropped/virat_kohli\\\\virat_kohli39.png',\n",
       "  './Dataset/cropped/virat_kohli\\\\virat_kohli4.png',\n",
       "  './Dataset/cropped/virat_kohli\\\\virat_kohli40.png',\n",
       "  './Dataset/cropped/virat_kohli\\\\virat_kohli41.png',\n",
       "  './Dataset/cropped/virat_kohli\\\\virat_kohli42.png',\n",
       "  './Dataset/cropped/virat_kohli\\\\virat_kohli44.png',\n",
       "  './Dataset/cropped/virat_kohli\\\\virat_kohli45.png',\n",
       "  './Dataset/cropped/virat_kohli\\\\virat_kohli47.png',\n",
       "  './Dataset/cropped/virat_kohli\\\\virat_kohli48.png',\n",
       "  './Dataset/cropped/virat_kohli\\\\virat_kohli5.png',\n",
       "  './Dataset/cropped/virat_kohli\\\\virat_kohli6.png',\n",
       "  './Dataset/cropped/virat_kohli\\\\virat_kohli7.png',\n",
       "  './Dataset/cropped/virat_kohli\\\\virat_kohli8.png',\n",
       "  './Dataset/cropped/virat_kohli\\\\virat_kohli9.png']}"
      ]
     },
     "execution_count": 11,
     "metadata": {},
     "output_type": "execute_result"
    }
   ],
   "source": [
    "celebrity_file_names_dict = {}\n",
    "for img_dir in cropped_image_dirs:\n",
    "    celebrity_name = img_dir.split('/')[-1]\n",
    "    file_list = []\n",
    "    for entry in os.scandir(img_dir):\n",
    "        file_list.append(entry.path)\n",
    "    celebrity_file_names_dict[celebrity_name] = file_list\n",
    "celebrity_file_names_dict"
   ]
  },
  {
   "cell_type": "markdown",
   "id": "cd91f159-d3ad-485b-ac6d-1b46be47535d",
   "metadata": {},
   "source": [
    "#### Feature Engineering"
   ]
  },
  {
   "cell_type": "code",
   "execution_count": 12,
   "id": "d324b073-c390-4bae-ba0b-bee391be27dd",
   "metadata": {},
   "outputs": [],
   "source": [
    "import pywt   \n",
    "\n",
    "def w2d(img, mode='haar', level=1):\n",
    "    imArray = img\n",
    "    #Datatype conversions\n",
    "    #convert to grayscale\n",
    "    imArray = cv2.cvtColor( imArray,cv2.COLOR_RGB2GRAY )\n",
    "    #convert to float\n",
    "    imArray =  np.float32(imArray)   \n",
    "    imArray /= 255;\n",
    "    # compute coefficients \n",
    "    coeffs=pywt.wavedec2(imArray, mode, level=level)\n",
    "\n",
    "    #Process Coefficients\n",
    "    coeffs_H=list(coeffs)  \n",
    "    coeffs_H[0] *= 0;  \n",
    "\n",
    "    # reconstruction\n",
    "    imArray_H=pywt.waverec2(coeffs_H, mode);\n",
    "    imArray_H *= 255;\n",
    "    imArray_H =  np.uint8(imArray_H)\n",
    "\n",
    "    return imArray_H"
   ]
  },
  {
   "cell_type": "code",
   "execution_count": 13,
   "id": "e1201d7b-16db-4d0c-9130-e64829abc8ce",
   "metadata": {},
   "outputs": [
    {
     "data": {
      "text/plain": [
       "{'lionel_messi': 0,\n",
       " 'maria_sharapova': 1,\n",
       " 'roger_federer': 2,\n",
       " 'serena_williams': 3,\n",
       " 'virat_kohli': 4}"
      ]
     },
     "execution_count": 13,
     "metadata": {},
     "output_type": "execute_result"
    }
   ],
   "source": [
    "class_celeb = {}\n",
    "count = 0\n",
    "for celebrity_name in celebrity_file_names_dict.keys():\n",
    "    class_celeb[celebrity_name] = count\n",
    "    count += 1\n",
    "class_celeb"
   ]
  },
  {
   "cell_type": "code",
   "execution_count": 14,
   "id": "3ec24b71-d303-4969-b763-198f93cd3ef6",
   "metadata": {},
   "outputs": [],
   "source": [
    "X = []\n",
    "y = []\n",
    "for celebrity_name, training_files in celebrity_file_names_dict.items():\n",
    "    for training_img in training_files:\n",
    "        img = cv2.imread(training_img)\n",
    "        scaled_img = cv2.resize(img, (32,32))\n",
    "        img_har = w2d(img, \"db1\", 5)\n",
    "        scaled_img_har = cv2.resize(img_har, (32,32))\n",
    "        combined_img = np.vstack((scaled_img.reshape(32*32*3, 1), scaled_img_har.reshape(32*32, 1)))\n",
    "        X.append(combined_img)\n",
    "        y.append(class_celeb[celebrity_name])"
   ]
  },
  {
   "cell_type": "code",
   "execution_count": 15,
   "id": "275840b3-6bc0-45b2-8dc8-99412335dba2",
   "metadata": {},
   "outputs": [
    {
     "data": {
      "text/plain": [
       "161"
      ]
     },
     "execution_count": 15,
     "metadata": {},
     "output_type": "execute_result"
    }
   ],
   "source": [
    "len(X)"
   ]
  },
  {
   "cell_type": "code",
   "execution_count": 16,
   "id": "d95e5b31-1621-415d-b3b1-713fe92da939",
   "metadata": {},
   "outputs": [
    {
     "data": {
      "text/plain": [
       "(161, 4096)"
      ]
     },
     "execution_count": 16,
     "metadata": {},
     "output_type": "execute_result"
    }
   ],
   "source": [
    "X = np.array(X).reshape(len(X),4096).astype(float)\n",
    "X.shape"
   ]
  },
  {
   "cell_type": "markdown",
   "id": "a4797681-f54d-4d77-af17-a212e8a20495",
   "metadata": {},
   "source": [
    "##### Import necessary libraries"
   ]
  },
  {
   "cell_type": "code",
   "execution_count": 17,
   "id": "8767df84-5c09-4c81-8ca6-629c7857515d",
   "metadata": {},
   "outputs": [],
   "source": [
    "from sklearn.svm import SVC\n",
    "from sklearn.preprocessing import StandardScaler\n",
    "from sklearn.model_selection import train_test_split, GridSearchCV\n",
    "from sklearn.pipeline import Pipeline\n",
    "from sklearn.metrics import classification_report, confusion_matrix\n",
    "from sklearn.ensemble import RandomForestClassifier\n",
    "from sklearn.linear_model import LogisticRegression\n",
    "from sklearn.pipeline import make_pipeline"
   ]
  },
  {
   "cell_type": "markdown",
   "id": "c57d58a7-43a7-4523-8a9f-28423e40d4aa",
   "metadata": {},
   "source": [
    "#### Modeling"
   ]
  },
  {
   "cell_type": "code",
   "execution_count": 18,
   "id": "134f5230-6b1f-49c9-bdc2-cd5c20029ff6",
   "metadata": {},
   "outputs": [
    {
     "data": {
      "text/plain": [
       "0.9024390243902439"
      ]
     },
     "execution_count": 18,
     "metadata": {},
     "output_type": "execute_result"
    }
   ],
   "source": [
    "X_train, X_test, y_train, y_test = train_test_split(X, y, random_state = 0)\n",
    "model = Pipeline(\n",
    "    [(\"scaler\", StandardScaler()), (\"svm\", SVC(kernel = \"rbf\", C = 10))]\n",
    ")\n",
    "model.fit(X_train, y_train)\n",
    "model.score(X_test, y_test)"
   ]
  },
  {
   "cell_type": "code",
   "execution_count": 19,
   "id": "a3679f6f-2bdb-45d3-8ca4-7bf02313370b",
   "metadata": {},
   "outputs": [],
   "source": [
    "y_pred = model.predict(X_test)"
   ]
  },
  {
   "cell_type": "code",
   "execution_count": 20,
   "id": "f5990163-39cf-47e2-acb3-09f903199bad",
   "metadata": {},
   "outputs": [
    {
     "name": "stdout",
     "output_type": "stream",
     "text": [
      "              precision    recall  f1-score   support\n",
      "\n",
      "           0       1.00      0.86      0.92         7\n",
      "           1       1.00      0.92      0.96        12\n",
      "           2       0.86      1.00      0.92         6\n",
      "           3       0.80      0.67      0.73         6\n",
      "           4       0.83      1.00      0.91        10\n",
      "\n",
      "    accuracy                           0.90        41\n",
      "   macro avg       0.90      0.89      0.89        41\n",
      "weighted avg       0.91      0.90      0.90        41\n",
      "\n"
     ]
    }
   ],
   "source": [
    "print(classification_report(y_test, y_pred))"
   ]
  },
  {
   "cell_type": "code",
   "execution_count": 21,
   "id": "0dcc9ebe-f096-4ad0-9493-27b19c9c5084",
   "metadata": {},
   "outputs": [
    {
     "data": {
      "text/plain": [
       "120"
      ]
     },
     "execution_count": 21,
     "metadata": {},
     "output_type": "execute_result"
    }
   ],
   "source": [
    "len(X_train)"
   ]
  },
  {
   "cell_type": "code",
   "execution_count": 22,
   "id": "43461798-199d-4f44-b7e5-eb8c195f0363",
   "metadata": {},
   "outputs": [
    {
     "data": {
      "text/plain": [
       "41"
      ]
     },
     "execution_count": 22,
     "metadata": {},
     "output_type": "execute_result"
    }
   ],
   "source": [
    "len(X_test)"
   ]
  },
  {
   "cell_type": "markdown",
   "id": "cde55586-b6e7-43a5-a30f-8a775e1d95dc",
   "metadata": {},
   "source": [
    "#### Grid Search"
   ]
  },
  {
   "cell_type": "code",
   "execution_count": 23,
   "id": "2f4e4914-8a97-4e0d-81ce-73b7ee407827",
   "metadata": {},
   "outputs": [],
   "source": [
    "model_params = {\n",
    "    \"svm\" : {\n",
    "        \"model\": SVC(gamma = \"auto\", probability = True),\n",
    "        \"params\": {\n",
    "            \"svc__C\": [1, 10, 100, 1000],\n",
    "            \"svc__kernel\": [\"linear\", \"rbf\"]\n",
    "        }\n",
    "    },\n",
    "\n",
    "    \"random_forest\": {\n",
    "        \"model\": RandomForestClassifier(),\n",
    "        \"params\":{\n",
    "            \"randomforestclassifier__n_estimators\": [1, 5, 10]\n",
    "        }\n",
    "    },\n",
    "\n",
    "    \"logistic_regression\": {\n",
    "        \"model\": LogisticRegression(solver='liblinear',multi_class='auto'),\n",
    "        \"params\": {\n",
    "            \"logisticregression__C\": [1, 5, 10]\n",
    "        }\n",
    "        \n",
    "    }\n",
    "}"
   ]
  },
  {
   "cell_type": "code",
   "execution_count": 25,
   "id": "d53764e5-2eaa-4364-8ae8-53286057dfdd",
   "metadata": {},
   "outputs": [],
   "source": [
    "import pandas as pd"
   ]
  },
  {
   "cell_type": "code",
   "execution_count": 26,
   "id": "a02929ef-3d7f-4c8e-85b7-cdab463c9896",
   "metadata": {},
   "outputs": [
    {
     "data": {
      "text/html": [
       "<div>\n",
       "<style scoped>\n",
       "    .dataframe tbody tr th:only-of-type {\n",
       "        vertical-align: middle;\n",
       "    }\n",
       "\n",
       "    .dataframe tbody tr th {\n",
       "        vertical-align: top;\n",
       "    }\n",
       "\n",
       "    .dataframe thead th {\n",
       "        text-align: right;\n",
       "    }\n",
       "</style>\n",
       "<table border=\"1\" class=\"dataframe\">\n",
       "  <thead>\n",
       "    <tr style=\"text-align: right;\">\n",
       "      <th></th>\n",
       "      <th>model</th>\n",
       "      <th>best_score</th>\n",
       "      <th>best_params</th>\n",
       "    </tr>\n",
       "  </thead>\n",
       "  <tbody>\n",
       "    <tr>\n",
       "      <th>0</th>\n",
       "      <td>svm</td>\n",
       "      <td>0.858333</td>\n",
       "      <td>{'svc__C': 1, 'svc__kernel': 'linear'}</td>\n",
       "    </tr>\n",
       "    <tr>\n",
       "      <th>1</th>\n",
       "      <td>random_forest</td>\n",
       "      <td>0.675000</td>\n",
       "      <td>{'randomforestclassifier__n_estimators': 10}</td>\n",
       "    </tr>\n",
       "    <tr>\n",
       "      <th>2</th>\n",
       "      <td>logistic_regression</td>\n",
       "      <td>0.891667</td>\n",
       "      <td>{'logisticregression__C': 10}</td>\n",
       "    </tr>\n",
       "  </tbody>\n",
       "</table>\n",
       "</div>"
      ],
      "text/plain": [
       "                 model  best_score  \\\n",
       "0                  svm    0.858333   \n",
       "1        random_forest    0.675000   \n",
       "2  logistic_regression    0.891667   \n",
       "\n",
       "                                    best_params  \n",
       "0        {'svc__C': 1, 'svc__kernel': 'linear'}  \n",
       "1  {'randomforestclassifier__n_estimators': 10}  \n",
       "2                 {'logisticregression__C': 10}  "
      ]
     },
     "execution_count": 26,
     "metadata": {},
     "output_type": "execute_result"
    }
   ],
   "source": [
    "scores = []\n",
    "best_estimators = {}\n",
    "for algo, mp in model_params.items():\n",
    "    pipe = make_pipeline(StandardScaler(), mp[\"model\"])\n",
    "    clf = GridSearchCV(pipe, mp[\"params\"], cv = 5)\n",
    "    clf.fit(X_train, y_train)\n",
    "    scores.append({\n",
    "        \"model\": algo,\n",
    "        \"best_score\": clf.best_score_,\n",
    "        \"best_params\": clf.best_params_  \n",
    "    })\n",
    "    best_estimators[algo] = clf.best_estimator_\n",
    "\n",
    "df = pd.DataFrame(scores, columns = [\"model\", \"best_score\", \"best_params\"])\n",
    "df  "
   ]
  },
  {
   "cell_type": "code",
   "execution_count": 27,
   "id": "02caa992-219e-4360-bf86-5f58c13c4ff7",
   "metadata": {},
   "outputs": [
    {
     "data": {
      "text/plain": [
       "{'svm': Pipeline(steps=[('standardscaler', StandardScaler()),\n",
       "                 ('svc',\n",
       "                  SVC(C=1, gamma='auto', kernel='linear', probability=True))]),\n",
       " 'random_forest': Pipeline(steps=[('standardscaler', StandardScaler()),\n",
       "                 ('randomforestclassifier',\n",
       "                  RandomForestClassifier(n_estimators=10))]),\n",
       " 'logistic_regression': Pipeline(steps=[('standardscaler', StandardScaler()),\n",
       "                 ('logisticregression',\n",
       "                  LogisticRegression(C=10, solver='liblinear'))])}"
      ]
     },
     "execution_count": 27,
     "metadata": {},
     "output_type": "execute_result"
    }
   ],
   "source": [
    "best_estimators"
   ]
  },
  {
   "cell_type": "code",
   "execution_count": 28,
   "id": "e31600e7-2057-4820-a04b-41200e176dc0",
   "metadata": {},
   "outputs": [
    {
     "data": {
      "text/plain": [
       "0.9024390243902439"
      ]
     },
     "execution_count": 28,
     "metadata": {},
     "output_type": "execute_result"
    }
   ],
   "source": [
    "best_estimators[\"svm\"].score(X_test, y_test)"
   ]
  },
  {
   "cell_type": "code",
   "execution_count": 29,
   "id": "91cf8fe8-225d-4682-966e-4c79b5134ead",
   "metadata": {},
   "outputs": [
    {
     "data": {
      "text/plain": [
       "0.6097560975609756"
      ]
     },
     "execution_count": 29,
     "metadata": {},
     "output_type": "execute_result"
    }
   ],
   "source": [
    "best_estimators[\"random_forest\"].score(X_test, y_test)"
   ]
  },
  {
   "cell_type": "code",
   "execution_count": 30,
   "id": "d23729c3-26b0-459b-a1a9-e6ff79fe7853",
   "metadata": {},
   "outputs": [
    {
     "data": {
      "text/plain": [
       "0.8780487804878049"
      ]
     },
     "execution_count": 30,
     "metadata": {},
     "output_type": "execute_result"
    }
   ],
   "source": [
    "best_estimators[\"logistic_regression\"].score(X_test, y_test)"
   ]
  },
  {
   "cell_type": "code",
   "execution_count": 31,
   "id": "0d4ec516-a227-4641-b4d4-c7892c5a0cd9",
   "metadata": {},
   "outputs": [],
   "source": [
    "best_model = best_estimators[\"svm\"]"
   ]
  },
  {
   "cell_type": "markdown",
   "id": "6a48cf98-2c79-46bf-86ae-99072fcd3212",
   "metadata": {},
   "source": [
    "##### Confusion Matrix"
   ]
  },
  {
   "cell_type": "code",
   "execution_count": 32,
   "id": "4768310e-0c4e-405c-8aa6-b90ef464234a",
   "metadata": {},
   "outputs": [
    {
     "data": {
      "text/plain": [
       "array([[ 5,  1,  0,  1,  0],\n",
       "       [ 0, 12,  0,  0,  0],\n",
       "       [ 0,  0,  6,  0,  0],\n",
       "       [ 0,  1,  1,  4,  0],\n",
       "       [ 0,  0,  0,  0, 10]], dtype=int64)"
      ]
     },
     "execution_count": 32,
     "metadata": {},
     "output_type": "execute_result"
    }
   ],
   "source": [
    "cm = confusion_matrix(y_test, best_model.predict(X_test))\n",
    "cm"
   ]
  },
  {
   "cell_type": "code",
   "execution_count": 33,
   "id": "3925e4d9-4cde-49af-86ce-c1f9951b3f53",
   "metadata": {},
   "outputs": [
    {
     "data": {
      "text/plain": [
       "Text(50.722222222222214, 0.5, 'Truth')"
      ]
     },
     "execution_count": 33,
     "metadata": {},
     "output_type": "execute_result"
    },
    {
     "data": {
      "image/png": "[encoded data removed]",
      "text/plain": [
       "<Figure size 640x480 with 2 Axes>"
      ]
     },
     "metadata": {},
     "output_type": "display_data"
    }
   ],
   "source": [
    "import seaborn as sn\n",
    "sn.heatmap(cm, annot = True)\n",
    "plt.xlabel('Predicted')\n",
    "plt.ylabel('Truth')"
   ]
  },
  {
   "cell_type": "markdown",
   "id": "32ec17d1-2810-4e63-95de-fd61b82ef51d",
   "metadata": {},
   "source": [
    "#### Save Model"
   ]
  },
  {
   "cell_type": "code",
   "execution_count": 34,
   "id": "0d6d6d18-94ee-47bd-97c8-e6a437276996",
   "metadata": {},
   "outputs": [],
   "source": [
    "import joblib"
   ]
  },
  {
   "cell_type": "code",
   "execution_count": 35,
   "id": "a14c059a-a70e-4597-832d-140ec651c336",
   "metadata": {},
   "outputs": [
    {
     "data": {
      "text/plain": [
       "['svm_model.pkl']"
      ]
     },
     "execution_count": 35,
     "metadata": {},
     "output_type": "execute_result"
    }
   ],
   "source": [
    "joblib.dump(best_model, \"svm_model.pkl\")"
   ]
  },
  {
   "cell_type": "markdown",
   "id": "d06a03d5-83d8-43c5-b73d-88a33a3988c5",
   "metadata": {},
   "source": [
    "#### Save Dictionary"
   ]
  },
  {
   "cell_type": "code",
   "execution_count": 36,
   "id": "604935f8-d3db-4556-91b7-e0e8ff9b81d2",
   "metadata": {},
   "outputs": [],
   "source": [
    "import json"
   ]
  },
  {
   "cell_type": "code",
   "execution_count": 37,
   "id": "2095631f-e2aa-4300-ae4d-6c6244d70da2",
   "metadata": {},
   "outputs": [],
   "source": [
    "with open(\"class_dictionary.json\", \"w\") as f:\n",
    "    f.write(json.dumps(class_celeb))"
   ]
  },
  {
   "cell_type": "code",
   "execution_count": null,
   "id": "62cf105a-cca2-44ca-9a1c-8bcbda466c1d",
   "metadata": {},
   "outputs": [],
   "source": []
  }
 ],
 "metadata": {
  "kernelspec": {
   "display_name": "Python 3 (ipykernel)",
   "language": "python",
   "name": "python3"
  },
  "language_info": {
   "codemirror_mode": {
    "name": "ipython",
    "version": 3
   },
   "file_extension": ".py",
   "mimetype": "text/x-python",
   "name": "python",
   "nbconvert_exporter": "python",
   "pygments_lexer": "ipython3",
   "version": "3.12.4"
  }
 },
 "nbformat": 4,
 "nbformat_minor": 5
}
